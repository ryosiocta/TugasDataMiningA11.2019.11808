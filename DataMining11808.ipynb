{
  "nbformat": 4,
  "nbformat_minor": 0,
  "metadata": {
    "colab": {
      "name": "DataMining11808.ipynb",
      "provenance": [],
      "collapsed_sections": []
    },
    "kernelspec": {
      "name": "python3",
      "display_name": "Python 3"
    },
    "language_info": {
      "name": "python"
    }
  },
  "cells": [
    {
      "cell_type": "code",
      "execution_count": 1,
      "metadata": {
        "id": "GxlrgEmwEfC9"
      },
      "outputs": [],
      "source": [
        "import numpy as np\n",
        "import matplotlib.pyplot as plt\n",
        "import pandas as pd"
      ]
    },
    {
      "cell_type": "code",
      "source": [
        "dataset = pd.read_csv('Data.csv')\n",
        "x = dataset.iloc[:,:-1].values\n",
        "y = dataset.iloc[:,-1].values"
      ],
      "metadata": {
        "id": "FvWi4a9sFvli"
      },
      "execution_count": 2,
      "outputs": []
    },
    {
      "cell_type": "code",
      "source": [
        "print(x)"
      ],
      "metadata": {
        "colab": {
          "base_uri": "https://localhost:8080/"
        },
        "id": "D5mhUCTOF4h5",
        "outputId": "4b2e49bc-7e51-4acd-ac3d-b4ea38f8c38f"
      },
      "execution_count": 3,
      "outputs": [
        {
          "output_type": "stream",
          "name": "stdout",
          "text": [
            "[['Japan' 33.0 60000.0]\n",
            " ['Indonesia' 55.0 40000.0]\n",
            " ['Vietnam' 70.0 55000.0]\n",
            " ['Indonesia' 45.0 65000.0]\n",
            " ['Japan' 78.0 nan]\n",
            " ['Vietnam' 76.0 40000.0]\n",
            " ['Indonesia' nan 66000.0]]\n"
          ]
        }
      ]
    },
    {
      "cell_type": "code",
      "source": [
        "print(y)"
      ],
      "metadata": {
        "colab": {
          "base_uri": "https://localhost:8080/"
        },
        "id": "xtLvKx1bGCBK",
        "outputId": "fddacfac-d97f-4845-be7f-da9bd8adfea0"
      },
      "execution_count": 4,
      "outputs": [
        {
          "output_type": "stream",
          "name": "stdout",
          "text": [
            "['No' 'Yes' 'No' 'No' 'Yes' 'Yes' 'No']\n"
          ]
        }
      ]
    },
    {
      "cell_type": "code",
      "source": [
        "from sklearn.impute import SimpleImputer\n",
        "imputer = SimpleImputer(missing_values=np.nan, strategy='mean')\n",
        "imputer.fit(x[:,1:3])\n",
        "x[:, 1:3] =imputer.transform(x[:,1:3])"
      ],
      "metadata": {
        "id": "Sn4_a1FlGIjO"
      },
      "execution_count": 5,
      "outputs": []
    },
    {
      "cell_type": "code",
      "source": [
        "print(x)"
      ],
      "metadata": {
        "colab": {
          "base_uri": "https://localhost:8080/"
        },
        "id": "qK8qN5OIGRfM",
        "outputId": "fbdc4e98-a267-42c7-9413-29af64dca235"
      },
      "execution_count": 6,
      "outputs": [
        {
          "output_type": "stream",
          "name": "stdout",
          "text": [
            "[['Japan' 33.0 60000.0]\n",
            " ['Indonesia' 55.0 40000.0]\n",
            " ['Vietnam' 70.0 55000.0]\n",
            " ['Indonesia' 45.0 65000.0]\n",
            " ['Japan' 78.0 54333.333333333336]\n",
            " ['Vietnam' 76.0 40000.0]\n",
            " ['Indonesia' 59.5 66000.0]]\n"
          ]
        }
      ]
    },
    {
      "cell_type": "code",
      "source": [
        "from sklearn.compose import ColumnTransformer\n",
        "from sklearn.preprocessing import OneHotEncoder\n",
        "ct = ColumnTransformer(transformers=[('encoder',OneHotEncoder(),[0])], remainder='passthrough')\n",
        "x = np.array(ct.fit_transform(x))"
      ],
      "metadata": {
        "id": "LTB-V_NoGZx_"
      },
      "execution_count": 7,
      "outputs": []
    },
    {
      "cell_type": "code",
      "source": [
        "print(x)"
      ],
      "metadata": {
        "colab": {
          "base_uri": "https://localhost:8080/"
        },
        "id": "icImZiHdGdgN",
        "outputId": "938f4d22-0708-4903-c078-0c60b5864a4f"
      },
      "execution_count": 8,
      "outputs": [
        {
          "output_type": "stream",
          "name": "stdout",
          "text": [
            "[[0.0 1.0 0.0 33.0 60000.0]\n",
            " [1.0 0.0 0.0 55.0 40000.0]\n",
            " [0.0 0.0 1.0 70.0 55000.0]\n",
            " [1.0 0.0 0.0 45.0 65000.0]\n",
            " [0.0 1.0 0.0 78.0 54333.333333333336]\n",
            " [0.0 0.0 1.0 76.0 40000.0]\n",
            " [1.0 0.0 0.0 59.5 66000.0]]\n"
          ]
        }
      ]
    },
    {
      "cell_type": "code",
      "source": [
        "from sklearn.preprocessing import LabelEncoder\n",
        "le = LabelEncoder()\n",
        "y = le.fit_transform(y)"
      ],
      "metadata": {
        "id": "fNsgYxUgGkKx"
      },
      "execution_count": 9,
      "outputs": []
    },
    {
      "cell_type": "code",
      "source": [
        "print(y)"
      ],
      "metadata": {
        "colab": {
          "base_uri": "https://localhost:8080/"
        },
        "id": "AOPQ15qWGrCP",
        "outputId": "6cc9899c-24d8-4b31-9b77-475aadd0df52"
      },
      "execution_count": 10,
      "outputs": [
        {
          "output_type": "stream",
          "name": "stdout",
          "text": [
            "[0 1 0 0 1 1 0]\n"
          ]
        }
      ]
    },
    {
      "cell_type": "code",
      "source": [
        "from sklearn.model_selection import train_test_split\n",
        "x_train, x_test, y_train, y_test = train_test_split(x,y,test_size=0.2, random_state=1)"
      ],
      "metadata": {
        "id": "3pDMdNO8Gzkg"
      },
      "execution_count": 11,
      "outputs": []
    },
    {
      "cell_type": "code",
      "source": [
        "print(x_train)"
      ],
      "metadata": {
        "colab": {
          "base_uri": "https://localhost:8080/"
        },
        "id": "XWa31wlbG5Cg",
        "outputId": "8974237a-13c4-4321-b361-3469c0fad651"
      },
      "execution_count": 12,
      "outputs": [
        {
          "output_type": "stream",
          "name": "stdout",
          "text": [
            "[[1.0 0.0 0.0 55.0 40000.0]\n",
            " [0.0 1.0 0.0 33.0 60000.0]\n",
            " [0.0 1.0 0.0 78.0 54333.333333333336]\n",
            " [1.0 0.0 0.0 45.0 65000.0]\n",
            " [0.0 0.0 1.0 76.0 40000.0]]\n"
          ]
        }
      ]
    },
    {
      "cell_type": "code",
      "source": [
        "print(x_test)"
      ],
      "metadata": {
        "colab": {
          "base_uri": "https://localhost:8080/"
        },
        "id": "m8pge82OHA-O",
        "outputId": "b215d4b0-bcaa-44de-f761-4471f3559629"
      },
      "execution_count": 13,
      "outputs": [
        {
          "output_type": "stream",
          "name": "stdout",
          "text": [
            "[[1.0 0.0 0.0 59.5 66000.0]\n",
            " [0.0 0.0 1.0 70.0 55000.0]]\n"
          ]
        }
      ]
    },
    {
      "cell_type": "code",
      "source": [
        "print(y_train)"
      ],
      "metadata": {
        "colab": {
          "base_uri": "https://localhost:8080/"
        },
        "id": "G6nwGtcWHJhS",
        "outputId": "aaecf707-8ff3-4033-94fe-6019eddb09ab"
      },
      "execution_count": 14,
      "outputs": [
        {
          "output_type": "stream",
          "name": "stdout",
          "text": [
            "[1 0 1 0 1]\n"
          ]
        }
      ]
    },
    {
      "cell_type": "code",
      "source": [
        "print(y_test)"
      ],
      "metadata": {
        "colab": {
          "base_uri": "https://localhost:8080/"
        },
        "id": "psnLSaT1HRPF",
        "outputId": "044aece7-f087-4e3a-af10-793c7571920c"
      },
      "execution_count": 15,
      "outputs": [
        {
          "output_type": "stream",
          "name": "stdout",
          "text": [
            "[0 0]\n"
          ]
        }
      ]
    },
    {
      "cell_type": "code",
      "source": [
        "from sklearn.preprocessing import StandardScaler\n",
        "sc = StandardScaler()\n",
        "x_train[:,3:] = sc.fit_transform(x_train[:,3:])\n",
        "x_test[:,3:] = sc.transform(x_test[:,3:])"
      ],
      "metadata": {
        "id": "t7rHPoFyHYr7"
      },
      "execution_count": 16,
      "outputs": []
    },
    {
      "cell_type": "code",
      "source": [
        "print(x_train)"
      ],
      "metadata": {
        "colab": {
          "base_uri": "https://localhost:8080/"
        },
        "id": "JuXfoFxyHeq3",
        "outputId": "697a7693-4a89-4710-bc3c-51b10811a051"
      },
      "execution_count": 17,
      "outputs": [
        {
          "output_type": "stream",
          "name": "stdout",
          "text": [
            "[[1.0 0.0 0.0 -0.13741458973797505 -1.1565759035418088]\n",
            " [0.0 1.0 0.0 -1.3970483290027471 0.7927093271466322]\n",
            " [0.0 1.0 0.0 1.1794752285842867 0.24041184511824085]\n",
            " [1.0 0.0 0.0 -0.7099753803128714 1.2800306348187425]\n",
            " [0.0 0.0 1.0 1.0649630704693074 -1.1565759035418088]]\n"
          ]
        }
      ]
    },
    {
      "cell_type": "code",
      "source": [
        "print(x_test)"
      ],
      "metadata": {
        "colab": {
          "base_uri": "https://localhost:8080/"
        },
        "id": "X9TLzEdYHlc0",
        "outputId": "7e6a81e5-f835-4e51-b67b-b0330c08c876"
      },
      "execution_count": 18,
      "outputs": [
        {
          "output_type": "stream",
          "name": "stdout",
          "text": [
            "[[1.0 0.0 0.0 0.12023776602072832 1.3774948963531646]\n",
            " [0.0 0.0 1.0 0.7214265961243695 0.305388019474522]]\n"
          ]
        }
      ]
    }
  ]
}